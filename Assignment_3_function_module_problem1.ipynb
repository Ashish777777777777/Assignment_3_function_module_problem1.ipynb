{
 "cells": [
  {
   "cell_type": "code",
   "execution_count": 2,
   "id": "7d8b96b9",
   "metadata": {},
   "outputs": [
    {
     "name": "stdout",
     "output_type": "stream",
     "text": [
      "Sum of the numbers in the list: 20\n"
     ]
    }
   ],
   "source": [
    "def sum_list_numbers(numbers_list):\n",
    "    return sum(numbers_list)\n",
    "\n",
    "sample_list = [8, 2, 3, 0, 7]\n",
    "result = sum_list_numbers(sample_list)\n",
    "\n",
    "print(\"Sum of the numbers in the list:\", result)\n"
   ]
  },
  {
   "cell_type": "code",
   "execution_count": null,
   "id": "13705a47",
   "metadata": {},
   "outputs": [],
   "source": []
  }
 ],
 "metadata": {
  "kernelspec": {
   "display_name": "Python 3 (ipykernel)",
   "language": "python",
   "name": "python3"
  },
  "language_info": {
   "codemirror_mode": {
    "name": "ipython",
    "version": 3
   },
   "file_extension": ".py",
   "mimetype": "text/x-python",
   "name": "python",
   "nbconvert_exporter": "python",
   "pygments_lexer": "ipython3",
   "version": "3.10.9"
  }
 },
 "nbformat": 4,
 "nbformat_minor": 5
}
